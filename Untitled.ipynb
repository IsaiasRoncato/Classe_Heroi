{
 "cells": [
  {
   "cell_type": "code",
   "execution_count": null,
   "id": "6a49f676",
   "metadata": {},
   "outputs": [],
   "source": [
    "# Criando uma Classe de Herói e funções\n",
    "class Heroi:\n",
    "    def __init__(self, nome, idade, tipo):\n",
    "        self.nome = nome\n",
    "        self.idade = idade\n",
    "        self.tipo = tipo\n",
    "\n",
    "    def atacar(self):\n",
    "        if self.tipo == \"mago\":\n",
    "            ataque = \"usou magia\"\n",
    "        elif self.tipo == \"guerreiro\":\n",
    "            ataque = \"usou espada\"\n",
    "        elif self.tipo == \"monge\":\n",
    "            ataque = \"usou artes marciais\"\n",
    "        elif self.tipo == \"ninja\":\n",
    "            ataque = \"usou shuriken\"\n",
    "        else:\n",
    "            ataque = \"usou um ataque desconhecido\"\n",
    "        \n",
    "        print(f\"O {self.tipo} atacou usando {ataque}\")\n",
    "\n",
    "# Criando instâncias de heróis\n",
    "heroi1 = Heroi(\"Gandalf\", 150, \"mago\")\n",
    "heroi2 = Heroi(\"Conan\", 35, \"guerreiro\")\n",
    "heroi3 = Heroi(\"Shaolin\", 28, \"monge\")\n",
    "heroi4 = Heroi(\"Naruto\", 16, \"ninja\")\n",
    "\n",
    "# Chamando o método atacar para cada herói\n",
    "heroi1.atacar()\n",
    "heroi2.atacar()\n",
    "heroi3.atacar()\n",
    "heroi4.atacar()"
   ]
  }
 ],
 "metadata": {
  "kernelspec": {
   "display_name": "Python 3 (ipykernel)",
   "language": "python",
   "name": "python3"
  },
  "language_info": {
   "codemirror_mode": {
    "name": "ipython",
    "version": 3
   },
   "file_extension": ".py",
   "mimetype": "text/x-python",
   "name": "python",
   "nbconvert_exporter": "python",
   "pygments_lexer": "ipython3",
   "version": "3.11.5"
  }
 },
 "nbformat": 4,
 "nbformat_minor": 5
}
